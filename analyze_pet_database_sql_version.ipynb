{
 "cells": [
  {
   "cell_type": "markdown",
   "id": "b5094e5d-e170-4f0b-b7fc-838cb254eb03",
   "metadata": {},
   "source": [
    "# 🐾 Analyze Pet Database using SQL (SQLite + Pandas)\n",
    "\n",
    "In this notebook, we explore a small pet clinic database using Python and SQL (SQLite).  \n",
    "We will create relational tables, insert data from CSV files, run SQL queries, and visualize the results using `seaborn` and `matplotlib`.\n",
    "\n",
    "The structure includes:\n",
    "1. Setup & Libraries\n",
    "2. Create SQLite Database & Tables\n",
    "3. Insert Data from CSV\n",
    "4. Query & Join\n",
    "5. Visualization\n",
    "6. Bonus Analysis (Optional)\n",
    "\n",
    "Let's get started!"
   ]
  },
  {
   "cell_type": "markdown",
   "id": "6b83253c-fc15-4528-a86d-353b77a09629",
   "metadata": {},
   "source": [
    "## Setup Library"
   ]
  },
  {
   "cell_type": "code",
   "execution_count": 1,
   "id": "50993a09-076d-43bb-a350-233e07bbcd46",
   "metadata": {},
   "outputs": [],
   "source": [
    "import sqlite3\n",
    "import pandas as pd\n",
    "import csv  # Used to read CSV data before inserting into SQLite"
   ]
  },
  {
   "cell_type": "markdown",
   "id": "90dbce4a-902a-474b-85b2-2b06b61e2188",
   "metadata": {},
   "source": [
    "## Create SQLite Database and Tables"
   ]
  },
  {
   "cell_type": "code",
   "execution_count": 2,
   "id": "843d6f54-89ca-4603-b8d7-4888dda1ab85",
   "metadata": {},
   "outputs": [
    {
     "data": {
      "text/plain": [
       "<sqlite3.Cursor at 0x191df407940>"
      ]
     },
     "execution_count": 2,
     "metadata": {},
     "output_type": "execute_result"
    }
   ],
   "source": [
    "# Connect to the database\n",
    "conn = sqlite3.connect(\"pet_clinic.db\")\n",
    "cursor = conn.cursor()\n",
    "\n",
    "# Make sure foreign key constraints are enforced\n",
    "cursor.execute(\"PRAGMA foreign_keys = ON;\")\n",
    "\n",
    "# Create table: owners\n",
    "cursor.execute(\"\"\"\n",
    "CREATE TABLE IF NOT EXISTS owners (\n",
    "    id TEXT PRIMARY KEY,\n",
    "    name TEXT,\n",
    "    license_status INTEGER,\n",
    "    license_date_created TEXT\n",
    ")\n",
    "\"\"\")\n",
    "\n",
    "# Create table: pets\n",
    "cursor.execute(\"\"\"\n",
    "CREATE TABLE IF NOT EXISTS pets (\n",
    "    pet_id TEXT PRIMARY KEY,\n",
    "    pet_name TEXT,\n",
    "    animal_type TEXT,\n",
    "    age REAL,\n",
    "    owners_id TEXT,\n",
    "    FOREIGN KEY (owners_id) REFERENCES owners(id)\n",
    ")\n",
    "\"\"\")"
   ]
  },
  {
   "cell_type": "markdown",
   "id": "08c84108-623d-4ff5-b57e-1ed31fbbd939",
   "metadata": {},
   "source": [
    "## Insert Data from CSV Files"
   ]
  },
  {
   "cell_type": "code",
   "execution_count": 3,
   "id": "f5438d3d-5c94-4274-8f13-d256a367c0ca",
   "metadata": {},
   "outputs": [],
   "source": [
    "# Load and insert owners.csv\n",
    "with open(\"owners.csv\", \"r\", encoding=\"utf-8\") as file:\n",
    "    dr = csv.DictReader(file)\n",
    "    to_db = [\n",
    "        (\n",
    "            row[\"id\"],\n",
    "            row[\"name\"],\n",
    "            int(row[\"license_status\"]),\n",
    "            row[\"license_date_created\"]\n",
    "        )\n",
    "        for row in dr\n",
    "    ]\n",
    "\n",
    "cursor.executemany(\n",
    "    \"INSERT INTO owners (id, name, license_status, license_date_created) VALUES (?, ?, ?, ?);\",\n",
    "    to_db\n",
    ")\n",
    "\n",
    "# Load and insert pets.csv\n",
    "with open(\"pets.csv\", \"r\", encoding=\"utf-8\") as file:\n",
    "    dr = csv.DictReader(file)\n",
    "    to_db = [\n",
    "        (\n",
    "            row[\"pet_id\"],\n",
    "            row[\"pet_name\"],\n",
    "            row[\"animal_type\"],\n",
    "            float(row[\"age\"]),\n",
    "            row[\"owners_id\"]\n",
    "        )\n",
    "        for row in dr\n",
    "    ]\n",
    "\n",
    "cursor.executemany(\n",
    "    \"INSERT INTO pets (pet_id, pet_name, animal_type, age, owners_id) VALUES (?, ?, ?, ?, ?);\",\n",
    "    to_db\n",
    ")\n",
    "\n",
    "# Commit and close the connection\n",
    "conn.commit()\n",
    "conn.close()"
   ]
  },
  {
   "cell_type": "markdown",
   "id": "df848914-a822-4d98-9f2f-7624e2867643",
   "metadata": {},
   "source": [
    "## 📊 Data Analysis with SQL\n",
    "\n",
    "Now that the data has been successfully imported into the SQLite database (`pet_clinic.db`), let's run some SQL queries to explore and analyze it.\n",
    "\n",
    "We will use the `sqlite3` connection to run various queries, such as:\n",
    "\n",
    "- Counting total pets and owners\n",
    "- Analyzing age distributions\n",
    "- Checking ownership and license status\n",
    "- Finding interesting patterns in pet types and age"
   ]
  },
  {
   "cell_type": "markdown",
   "id": "cb43e2e6-6648-4ad2-a54e-5dc464632870",
   "metadata": {},
   "source": [
    "## Initial Data Exploration\n",
    "\n",
    "To better understand the structure of our database, we previewed the first 5 rows from both `owners` and `pets` tables.\n",
    "This gives us a quick overview of the available columns and the kind of data each table contains, which will guide our analysis and help design more insightful queries going forward."
   ]
  },
  {
   "cell_type": "code",
   "execution_count": 4,
   "id": "5b288628-fb59-47c7-99c5-eda14fd2dac1",
   "metadata": {},
   "outputs": [
    {
     "name": "stdout",
     "output_type": "stream",
     "text": [
      "Owners Table Sample:\n",
      "     id     name  license_status license_date_created\n",
      "0  X001   Ronald               1           2025-05-04\n",
      "1  X002  Willand               1           2021-01-20\n",
      "2  X003   Steven               1           2024-12-30\n",
      "3  X004    Wawan               0           2023-01-13\n",
      "4  X005    Yusha               1           2022-08-30\n",
      "\n",
      "Pets Table Sample:\n",
      "  pet_id pet_name animal_type   age owners_id\n",
      "0  p0001  Pudding         Cat  3.12      X002\n",
      "1  p0002     Clay         Dog  4.25      X004\n",
      "2  p0003   Morris         Dog  3.47      X001\n",
      "3  p0004   Paimon         Cat  2.83      X005\n",
      "4  p0005    Pluto         Cat  0.50      X004\n"
     ]
    }
   ],
   "source": [
    "# Reconnect to the database\n",
    "conn = sqlite3.connect(\"pet_clinic.db\")\n",
    "cursor = conn.cursor()\n",
    "\n",
    "# View the first 5 data from table owners\n",
    "print(\"Owners Table Sample:\")\n",
    "owners_df = pd.read_sql_query(\"SELECT * FROM owners LIMIT 5;\", conn)\n",
    "print(owners_df)\n",
    "\n",
    "# View the first 5 data from table pets\n",
    "print(\"\\nPets Table Sample:\")\n",
    "pets_df = pd.read_sql_query(\"SELECT * FROM pets LIMIT 5;\", conn)\n",
    "print(pets_df)\n",
    "\n",
    "conn.close()"
   ]
  },
  {
   "cell_type": "markdown",
   "id": "44acc290-d757-4dcb-b6a5-73a92ebcd384",
   "metadata": {},
   "source": [
    "## 📈 Query 1: Most Common Animal Types\n",
    "\n",
    "Let’s see which types of animals are the most common in the clinic. We'll group by `animal_type` and count how many pets fall into each category."
   ]
  },
  {
   "cell_type": "code",
   "execution_count": 5,
   "id": "4581fbdf-ea62-45a9-b4ae-478183adc8c1",
   "metadata": {},
   "outputs": [
    {
     "data": {
      "text/html": [
       "<div>\n",
       "<style scoped>\n",
       "    .dataframe tbody tr th:only-of-type {\n",
       "        vertical-align: middle;\n",
       "    }\n",
       "\n",
       "    .dataframe tbody tr th {\n",
       "        vertical-align: top;\n",
       "    }\n",
       "\n",
       "    .dataframe thead th {\n",
       "        text-align: right;\n",
       "    }\n",
       "</style>\n",
       "<table border=\"1\" class=\"dataframe\">\n",
       "  <thead>\n",
       "    <tr style=\"text-align: right;\">\n",
       "      <th></th>\n",
       "      <th>animal_type</th>\n",
       "      <th>total</th>\n",
       "    </tr>\n",
       "  </thead>\n",
       "  <tbody>\n",
       "    <tr>\n",
       "      <th>0</th>\n",
       "      <td>Cat</td>\n",
       "      <td>62</td>\n",
       "    </tr>\n",
       "    <tr>\n",
       "      <th>1</th>\n",
       "      <td>Dog</td>\n",
       "      <td>22</td>\n",
       "    </tr>\n",
       "    <tr>\n",
       "      <th>2</th>\n",
       "      <td>Bird</td>\n",
       "      <td>7</td>\n",
       "    </tr>\n",
       "    <tr>\n",
       "      <th>3</th>\n",
       "      <td>Horse</td>\n",
       "      <td>3</td>\n",
       "    </tr>\n",
       "    <tr>\n",
       "      <th>4</th>\n",
       "      <td>Squirrel</td>\n",
       "      <td>2</td>\n",
       "    </tr>\n",
       "    <tr>\n",
       "      <th>5</th>\n",
       "      <td>Fish</td>\n",
       "      <td>2</td>\n",
       "    </tr>\n",
       "    <tr>\n",
       "      <th>6</th>\n",
       "      <td>Turtle</td>\n",
       "      <td>1</td>\n",
       "    </tr>\n",
       "    <tr>\n",
       "      <th>7</th>\n",
       "      <td>Snake</td>\n",
       "      <td>1</td>\n",
       "    </tr>\n",
       "  </tbody>\n",
       "</table>\n",
       "</div>"
      ],
      "text/plain": [
       "  animal_type  total\n",
       "0         Cat     62\n",
       "1         Dog     22\n",
       "2        Bird      7\n",
       "3       Horse      3\n",
       "4    Squirrel      2\n",
       "5        Fish      2\n",
       "6      Turtle      1\n",
       "7       Snake      1"
      ]
     },
     "execution_count": 5,
     "metadata": {},
     "output_type": "execute_result"
    }
   ],
   "source": [
    "query = \"\"\"\n",
    "SELECT animal_type, COUNT(*) AS total\n",
    "FROM pets\n",
    "GROUP BY animal_type\n",
    "ORDER BY total DESC;\n",
    "\"\"\"\n",
    "\n",
    "with sqlite3.connect(\"pet_clinic.db\") as conn:\n",
    "    df = pd.read_sql_query(query, conn)\n",
    "\n",
    "df"
   ]
  },
  {
   "cell_type": "markdown",
   "id": "f6296239-28f6-4876-a490-a550c2dc2660",
   "metadata": {},
   "source": [
    "## 📊 Query 2: Average Age of Pets by Animal Type\n",
    "\n",
    "We want to analyze the average age of pets grouped by their animal type. This helps us understand age distributions across different pet species."
   ]
  },
  {
   "cell_type": "code",
   "execution_count": 6,
   "id": "88fe3308-1c36-453e-b370-0039f82770f1",
   "metadata": {},
   "outputs": [
    {
     "data": {
      "text/html": [
       "<div>\n",
       "<style scoped>\n",
       "    .dataframe tbody tr th:only-of-type {\n",
       "        vertical-align: middle;\n",
       "    }\n",
       "\n",
       "    .dataframe tbody tr th {\n",
       "        vertical-align: top;\n",
       "    }\n",
       "\n",
       "    .dataframe thead th {\n",
       "        text-align: right;\n",
       "    }\n",
       "</style>\n",
       "<table border=\"1\" class=\"dataframe\">\n",
       "  <thead>\n",
       "    <tr style=\"text-align: right;\">\n",
       "      <th></th>\n",
       "      <th>animal_type</th>\n",
       "      <th>average_age</th>\n",
       "    </tr>\n",
       "  </thead>\n",
       "  <tbody>\n",
       "    <tr>\n",
       "      <th>0</th>\n",
       "      <td>Turtle</td>\n",
       "      <td>10.50</td>\n",
       "    </tr>\n",
       "    <tr>\n",
       "      <th>1</th>\n",
       "      <td>Fish</td>\n",
       "      <td>9.25</td>\n",
       "    </tr>\n",
       "    <tr>\n",
       "      <th>2</th>\n",
       "      <td>Horse</td>\n",
       "      <td>8.93</td>\n",
       "    </tr>\n",
       "    <tr>\n",
       "      <th>3</th>\n",
       "      <td>Cat</td>\n",
       "      <td>7.08</td>\n",
       "    </tr>\n",
       "    <tr>\n",
       "      <th>4</th>\n",
       "      <td>Bird</td>\n",
       "      <td>6.20</td>\n",
       "    </tr>\n",
       "    <tr>\n",
       "      <th>5</th>\n",
       "      <td>Dog</td>\n",
       "      <td>6.06</td>\n",
       "    </tr>\n",
       "    <tr>\n",
       "      <th>6</th>\n",
       "      <td>Snake</td>\n",
       "      <td>5.70</td>\n",
       "    </tr>\n",
       "    <tr>\n",
       "      <th>7</th>\n",
       "      <td>Squirrel</td>\n",
       "      <td>3.30</td>\n",
       "    </tr>\n",
       "  </tbody>\n",
       "</table>\n",
       "</div>"
      ],
      "text/plain": [
       "  animal_type  average_age\n",
       "0      Turtle        10.50\n",
       "1        Fish         9.25\n",
       "2       Horse         8.93\n",
       "3         Cat         7.08\n",
       "4        Bird         6.20\n",
       "5         Dog         6.06\n",
       "6       Snake         5.70\n",
       "7    Squirrel         3.30"
      ]
     },
     "execution_count": 6,
     "metadata": {},
     "output_type": "execute_result"
    }
   ],
   "source": [
    "query = \"\"\"\n",
    "SELECT animal_type, ROUND(AVG(age), 2) AS average_age\n",
    "FROM pets\n",
    "GROUP BY animal_type\n",
    "ORDER BY average_age DESC;\n",
    "\"\"\"\n",
    "\n",
    "with sqlite3.connect(\"pet_clinic.db\") as conn:\n",
    "    df = pd.read_sql_query(query, conn)\n",
    "\n",
    "df"
   ]
  },
  {
   "cell_type": "markdown",
   "id": "e118263e-12d6-4c1b-a97e-8de85bcd3488",
   "metadata": {},
   "source": [
    "## 🐶📊 Visualization: Distribution of Pet Ages by Animal Type\n",
    "\n",
    "To better understand the age spread of pets, we visualize it using a boxplot. This shows us the median, range, and possible outliers for each type of animal."
   ]
  },
  {
   "cell_type": "code",
   "execution_count": 7,
   "id": "8e48df5a-b5b8-46a2-a4c0-65fdb246a12d",
   "metadata": {},
   "outputs": [
    {
     "data": {
      "image/png": "[encoded data removed]",
      "text/plain": [
       "<Figure size 800x500 with 1 Axes>"
      ]
     },
     "metadata": {},
     "output_type": "display_data"
    }
   ],
   "source": [
    "import seaborn as sns\n",
    "import matplotlib.pyplot as plt\n",
    "\n",
    "# Reconnect and load data\n",
    "conn = sqlite3.connect(\"pet_clinic.db\")\n",
    "pets_df = pd.read_sql_query(\"SELECT * FROM pets;\", conn)\n",
    "conn.close()\n",
    "\n",
    "plt.figure(figsize=(8,5))\n",
    "sns.boxplot(data=pets_df, x=\"animal_type\", y=\"age\")\n",
    "plt.title(\"Age Distribution by Animal Type\")\n",
    "plt.xlabel(\"Animal Type\")\n",
    "plt.ylabel(\"Age\")\n",
    "plt.tight_layout()\n",
    "plt.show()"
   ]
  },
  {
   "cell_type": "markdown",
   "id": "6eb244e6-9fa6-4f4f-8705-15e087fd254d",
   "metadata": {},
   "source": [
    "### 📊 Insight from the Boxplot  \n",
    "  \n",
    "From the visualization above, we can observe the following:\n",
    "  \n",
    "- **Cats** show the widest age spread overall, ranging from very young to nearly **15 years** old.  \n",
    "- **Dogs** and **Birds** follow with moderately wide distributions, indicating a variety of age groups among these common pets.  \n",
    "- **Fish** and **Horses** also show noticeable variation in age, though not as wide as cats.  \n",
    "- **Turtles** and **Snakes** appear as **single-value entries** (no boxes), likely indicating only **one individual** for each — so we can’t draw conclusions about their age distributions.  \n",
    "- **Squirrels**, while present in small numbers, have **more than one record**, shown by a visible (though compact) box.  \n",
    "- The **median age** for most animals lies between **6 and 9 years**, depending on the type.  \n",
    "  \n",
    "These patterns give us a clearer idea of the variety of animals treated at the clinic, and help identify which groups might need more tailored care.  \n",
    "  \n",
    "⚠️ *Note:* This is a simulated dataset and does not reflect real-world animal lifespans.  \n",
    "  \n",
    "> 🐍 *Fun Fact:* Snakes can live for decades in the wild — just don’t expect them to fetch your slippers.  \n",
    "> Meanwhile, my cactus still hasn’t recovered from its traumatic week of neglect. 🌵"
   ]
  },
  {
   "cell_type": "markdown",
   "id": "97db76e2-b18e-4c3c-a119-e03793d3a9cc",
   "metadata": {},
   "source": [
    "## 🧾 Query 3: Number of Pets per Owner\n",
    "\n",
    "Let’s find out how many pets each owner has. We’ll join the `pets` table with `owners`, and count pets grouped by `owners.name`."
   ]
  },
  {
   "cell_type": "code",
   "execution_count": 8,
   "id": "f1897b74-3c53-431a-b00b-ba3319a00568",
   "metadata": {},
   "outputs": [
    {
     "data": {
      "text/html": [
       "<div>\n",
       "<style scoped>\n",
       "    .dataframe tbody tr th:only-of-type {\n",
       "        vertical-align: middle;\n",
       "    }\n",
       "\n",
       "    .dataframe tbody tr th {\n",
       "        vertical-align: top;\n",
       "    }\n",
       "\n",
       "    .dataframe thead th {\n",
       "        text-align: right;\n",
       "    }\n",
       "</style>\n",
       "<table border=\"1\" class=\"dataframe\">\n",
       "  <thead>\n",
       "    <tr style=\"text-align: right;\">\n",
       "      <th></th>\n",
       "      <th>owner_name</th>\n",
       "      <th>total_pets</th>\n",
       "    </tr>\n",
       "  </thead>\n",
       "  <tbody>\n",
       "    <tr>\n",
       "      <th>0</th>\n",
       "      <td>Yusha</td>\n",
       "      <td>22</td>\n",
       "    </tr>\n",
       "    <tr>\n",
       "      <th>1</th>\n",
       "      <td>Ronald</td>\n",
       "      <td>16</td>\n",
       "    </tr>\n",
       "    <tr>\n",
       "      <th>2</th>\n",
       "      <td>Willand</td>\n",
       "      <td>15</td>\n",
       "    </tr>\n",
       "    <tr>\n",
       "      <th>3</th>\n",
       "      <td>Rosgi</td>\n",
       "      <td>15</td>\n",
       "    </tr>\n",
       "    <tr>\n",
       "      <th>4</th>\n",
       "      <td>Mardis</td>\n",
       "      <td>12</td>\n",
       "    </tr>\n",
       "    <tr>\n",
       "      <th>5</th>\n",
       "      <td>Wawan</td>\n",
       "      <td>11</td>\n",
       "    </tr>\n",
       "    <tr>\n",
       "      <th>6</th>\n",
       "      <td>Steven</td>\n",
       "      <td>9</td>\n",
       "    </tr>\n",
       "  </tbody>\n",
       "</table>\n",
       "</div>"
      ],
      "text/plain": [
       "  owner_name  total_pets\n",
       "0      Yusha          22\n",
       "1     Ronald          16\n",
       "2    Willand          15\n",
       "3      Rosgi          15\n",
       "4     Mardis          12\n",
       "5      Wawan          11\n",
       "6     Steven           9"
      ]
     },
     "execution_count": 8,
     "metadata": {},
     "output_type": "execute_result"
    }
   ],
   "source": [
    "query = \"\"\"\n",
    "SELECT o.name AS owner_name, COUNT(p.pet_id) AS total_pets\n",
    "FROM owners o\n",
    "LEFT JOIN pets p ON o.id = p.owners_id\n",
    "GROUP BY o.name\n",
    "ORDER BY total_pets DESC;\n",
    "\"\"\"\n",
    "\n",
    "with sqlite3.connect(\"pet_clinic.db\") as conn:\n",
    "    df = pd.read_sql_query(query, conn)\n",
    "\n",
    "df"
   ]
  },
  {
   "cell_type": "markdown",
   "id": "5760afc8-efbf-4f44-9523-c9a79666bd09",
   "metadata": {},
   "source": [
    "### Query 4: License Status Distribution of Pet Owners\n",
    "\n",
    "We want to examine how many pet owners have an active license versus an inactive one. This could help understand license compliance across the dataset. Although the sample size is small, visualizing the status distribution gives us an idea of how well owners keep their pet licenses up to date."
   ]
  },
  {
   "cell_type": "code",
   "execution_count": 9,
   "id": "bee9b0da-0196-40e5-a932-c081b13c7a36",
   "metadata": {},
   "outputs": [
    {
     "data": {
      "text/html": [
       "<div>\n",
       "<style scoped>\n",
       "    .dataframe tbody tr th:only-of-type {\n",
       "        vertical-align: middle;\n",
       "    }\n",
       "\n",
       "    .dataframe tbody tr th {\n",
       "        vertical-align: top;\n",
       "    }\n",
       "\n",
       "    .dataframe thead th {\n",
       "        text-align: right;\n",
       "    }\n",
       "</style>\n",
       "<table border=\"1\" class=\"dataframe\">\n",
       "  <thead>\n",
       "    <tr style=\"text-align: right;\">\n",
       "      <th></th>\n",
       "      <th>license_status</th>\n",
       "      <th>total</th>\n",
       "    </tr>\n",
       "  </thead>\n",
       "  <tbody>\n",
       "    <tr>\n",
       "      <th>0</th>\n",
       "      <td>0</td>\n",
       "      <td>3</td>\n",
       "    </tr>\n",
       "    <tr>\n",
       "      <th>1</th>\n",
       "      <td>1</td>\n",
       "      <td>4</td>\n",
       "    </tr>\n",
       "  </tbody>\n",
       "</table>\n",
       "</div>"
      ],
      "text/plain": [
       "   license_status  total\n",
       "0               0      3\n",
       "1               1      4"
      ]
     },
     "execution_count": 9,
     "metadata": {},
     "output_type": "execute_result"
    }
   ],
   "source": [
    "query = \"\"\"\n",
    "SELECT license_status, COUNT(*) AS total\n",
    "FROM owners\n",
    "GROUP BY license_status;\n",
    "\"\"\"\n",
    "\n",
    "with sqlite3.connect(\"pet_clinic.db\") as conn:\n",
    "    df = pd.read_sql_query(query, conn)\n",
    "\n",
    "df.head()"
   ]
  },
  {
   "cell_type": "markdown",
   "id": "06c92067-e396-4d87-b80b-c8b0340eb53f",
   "metadata": {},
   "source": [
    "## 🪪📊 Visualization: Owner License Status Breakdown\n",
    "\n",
    "A quick pie chart to visualize how many owners have active versus inactive licenses."
   ]
  },
  {
   "cell_type": "code",
   "execution_count": 10,
   "id": "de8d24e9-07e2-47f8-8833-a18c8448fcae",
   "metadata": {},
   "outputs": [
    {
     "data": {
      "image/png": "[encoded data removed]",
      "text/plain": [
       "<Figure size 500x500 with 1 Axes>"
      ]
     },
     "metadata": {},
     "output_type": "display_data"
    }
   ],
   "source": [
    "# Reconnect and get data\n",
    "conn = sqlite3.connect(\"pet_clinic.db\")\n",
    "\n",
    "# Query grouped license status counts\n",
    "license_df = pd.read_sql_query(\"\"\"\n",
    "    SELECT license_status, COUNT(*) AS total\n",
    "    FROM owners\n",
    "    GROUP BY license_status;\n",
    "\"\"\", conn)\n",
    "\n",
    "conn.close()\n",
    "\n",
    "# Map binary status to descriptive labels\n",
    "license_df[\"status\"] = license_df[\"license_status\"].map({0: \"Inactive\", 1: \"Active\"})\n",
    "\n",
    "# Plot pie chart\n",
    "plt.figure(figsize=(5,5))\n",
    "plt.pie(\n",
    "    license_df[\"total\"],\n",
    "    labels=license_df[\"status\"],\n",
    "    autopct=\"%1.1f%%\",\n",
    "    colors=[\"#F44336\", \"#4CAF50\"],  # red for Inactive, green for Active\n",
    "    startangle=90\n",
    ")\n",
    "plt.title(\"License Status of Pet Owners\")\n",
    "plt.tight_layout()\n",
    "plt.show()"
   ]
  },
  {
   "cell_type": "markdown",
   "id": "7165a9b9-d828-43c9-a39e-a3db02cacde7",
   "metadata": {},
   "source": [
    "Based on the chart, we can observe that approximately 57.1% of pet owners have an active license, while 42.9% have inactive licenses.\n",
    "This suggests that license compliance may need further attention, especially if maintaining an active license is required.\n",
    "\n",
    "For future exploration, we could analyze why some owners hold inactive licenses — for instance, by investigating when their license was last updated (`license_date_created`), or checking whether inactive licenses correlate with specific pet types.\n",
    "\n",
    "> 💡 **Future idea:** Explore potential correlations between license status and pet type, or visualize license activity trends using `license_date_created`."
   ]
  },
  {
   "cell_type": "markdown",
   "id": "31e69821-78fb-4b62-99a3-ef83b77a9e0b",
   "metadata": {},
   "source": [
    "## 🐾 Query 5: Finding All Pets Belonging to a Specific Owner (e.g. Willand)\n",
    "\n",
    "Sometimes, a pet owner may forget all the animals they have registered at the clinic.  \n",
    "For example, suppose we want to find all pets belonging to a person named *Willand*.  \n",
    "From the owners table, we previously saw that his ID is `'X002'`.  \n",
    "Let’s fetch all the pet records connected to him:"
   ]
  },
  {
   "cell_type": "code",
   "execution_count": 11,
   "id": "b0deff6e-18d6-4be3-b51d-a6b966b9f255",
   "metadata": {},
   "outputs": [
    {
     "data": {
      "text/html": [
       "<div>\n",
       "<style scoped>\n",
       "    .dataframe tbody tr th:only-of-type {\n",
       "        vertical-align: middle;\n",
       "    }\n",
       "\n",
       "    .dataframe tbody tr th {\n",
       "        vertical-align: top;\n",
       "    }\n",
       "\n",
       "    .dataframe thead th {\n",
       "        text-align: right;\n",
       "    }\n",
       "</style>\n",
       "<table border=\"1\" class=\"dataframe\">\n",
       "  <thead>\n",
       "    <tr style=\"text-align: right;\">\n",
       "      <th></th>\n",
       "      <th>pet_id</th>\n",
       "      <th>pet_name</th>\n",
       "      <th>animal_type</th>\n",
       "    </tr>\n",
       "  </thead>\n",
       "  <tbody>\n",
       "    <tr>\n",
       "      <th>0</th>\n",
       "      <td>p0001</td>\n",
       "      <td>Pudding</td>\n",
       "      <td>Cat</td>\n",
       "    </tr>\n",
       "    <tr>\n",
       "      <th>1</th>\n",
       "      <td>p0009</td>\n",
       "      <td>Simba</td>\n",
       "      <td>Cat</td>\n",
       "    </tr>\n",
       "    <tr>\n",
       "      <th>2</th>\n",
       "      <td>p0013</td>\n",
       "      <td>Snowy</td>\n",
       "      <td>Cat</td>\n",
       "    </tr>\n",
       "    <tr>\n",
       "      <th>3</th>\n",
       "      <td>p0031</td>\n",
       "      <td>Butterscotch</td>\n",
       "      <td>Dog</td>\n",
       "    </tr>\n",
       "    <tr>\n",
       "      <th>4</th>\n",
       "      <td>p0054</td>\n",
       "      <td>Marshy</td>\n",
       "      <td>Cat</td>\n",
       "    </tr>\n",
       "    <tr>\n",
       "      <th>5</th>\n",
       "      <td>p0059</td>\n",
       "      <td>Kiki</td>\n",
       "      <td>Bird</td>\n",
       "    </tr>\n",
       "    <tr>\n",
       "      <th>6</th>\n",
       "      <td>p0064</td>\n",
       "      <td>Wiggles</td>\n",
       "      <td>Cat</td>\n",
       "    </tr>\n",
       "    <tr>\n",
       "      <th>7</th>\n",
       "      <td>p0067</td>\n",
       "      <td>Peanut</td>\n",
       "      <td>Horse</td>\n",
       "    </tr>\n",
       "    <tr>\n",
       "      <th>8</th>\n",
       "      <td>p0075</td>\n",
       "      <td>Jelly</td>\n",
       "      <td>Cat</td>\n",
       "    </tr>\n",
       "    <tr>\n",
       "      <th>9</th>\n",
       "      <td>p0077</td>\n",
       "      <td>Peppy</td>\n",
       "      <td>Cat</td>\n",
       "    </tr>\n",
       "    <tr>\n",
       "      <th>10</th>\n",
       "      <td>p0087</td>\n",
       "      <td>Syrup</td>\n",
       "      <td>Dog</td>\n",
       "    </tr>\n",
       "    <tr>\n",
       "      <th>11</th>\n",
       "      <td>p0088</td>\n",
       "      <td>Taffy</td>\n",
       "      <td>Snake</td>\n",
       "    </tr>\n",
       "    <tr>\n",
       "      <th>12</th>\n",
       "      <td>p0094</td>\n",
       "      <td>Button</td>\n",
       "      <td>Bird</td>\n",
       "    </tr>\n",
       "    <tr>\n",
       "      <th>13</th>\n",
       "      <td>p0096</td>\n",
       "      <td>Crumble</td>\n",
       "      <td>Cat</td>\n",
       "    </tr>\n",
       "    <tr>\n",
       "      <th>14</th>\n",
       "      <td>p0100</td>\n",
       "      <td>Pickle</td>\n",
       "      <td>Cat</td>\n",
       "    </tr>\n",
       "  </tbody>\n",
       "</table>\n",
       "</div>"
      ],
      "text/plain": [
       "   pet_id      pet_name animal_type\n",
       "0   p0001       Pudding         Cat\n",
       "1   p0009         Simba         Cat\n",
       "2   p0013         Snowy         Cat\n",
       "3   p0031  Butterscotch         Dog\n",
       "4   p0054        Marshy         Cat\n",
       "5   p0059          Kiki        Bird\n",
       "6   p0064       Wiggles         Cat\n",
       "7   p0067        Peanut       Horse\n",
       "8   p0075         Jelly         Cat\n",
       "9   p0077         Peppy         Cat\n",
       "10  p0087         Syrup         Dog\n",
       "11  p0088         Taffy       Snake\n",
       "12  p0094        Button        Bird\n",
       "13  p0096       Crumble         Cat\n",
       "14  p0100        Pickle         Cat"
      ]
     },
     "execution_count": 11,
     "metadata": {},
     "output_type": "execute_result"
    }
   ],
   "source": [
    "query = \"\"\"\n",
    "SELECT pet_id, \n",
    "       pet_name,\n",
    "       animal_type\n",
    "FROM pets\n",
    "WHERE owners_id = 'X002';\n",
    "\"\"\"\n",
    "\n",
    "with sqlite3.connect(\"pet_clinic.db\") as conn:\n",
    "    df = pd.read_sql_query(query, conn)\n",
    "\n",
    "df"
   ]
  },
  {
   "cell_type": "markdown",
   "id": "80b84b8e-4408-4bd8-a762-9a444dcdd926",
   "metadata": {},
   "source": [
    "> 😹 *Note:* Willand’s pet list reminds us of a Pokémon trainer — gotta register 'em all!\n"
   ]
  },
  {
   "cell_type": "markdown",
   "id": "bb735398-0dbd-44fd-b59f-cae2a9a99b36",
   "metadata": {},
   "source": [
    "### Notes:\n",
    "- The data is sourced from two CSV files: `owners.csv` and `pets.csv`.\n",
    "- A new SQLite database (`pet_clinic.db`) is created each time the notebook is run from the beginning.\n",
    "- The table structure follows a basic relational schema between pet owners and their pets.\n",
    "\n",
    "> 💡 *Optional:* If you want to restart the notebook from scratch (e.g., recreate the database from CSV), please run the code cell below to delete the existing `pet_clinic.db` file."
   ]
  },
  {
   "cell_type": "code",
   "execution_count": null,
   "id": "d2c974aa-5850-4949-bb26-4925988d5a47",
   "metadata": {},
   "outputs": [],
   "source": [
    "import os\n",
    "\n",
    "# Close connection if still open\n",
    "try:\n",
    "    conn.close()\n",
    "except:\n",
    "    pass  # ignore if already closed\n",
    "\n",
    "# Delete the DB file\n",
    "db_path = \"pet_clinic.db\"\n",
    "\n",
    "if os.path.exists(db_path):\n",
    "    os.remove(db_path)\n",
    "    print(\"✅ pet_clinic.db has been deleted. You can now re-run the notebook from the top.\")\n",
    "else:\n",
    "    print(\"⚠️ pet_clinic.db not found.\")"
   ]
  },
  {
   "cell_type": "markdown",
   "id": "90709a8e-ad8c-4adc-89e9-d66474222998",
   "metadata": {},
   "source": [
    "---\n",
    "\n",
    "## 🔚 End of Notebook\n",
    "This notebook has completed all database creation and analysis steps.\n",
    "Feel free to explore or modify further if needed."
   ]
  },
  {
   "cell_type": "code",
   "execution_count": null,
   "id": "5c00e057-ce81-414f-b86d-05b101bafd0b",
   "metadata": {},
   "outputs": [],
   "source": []
  }
 ],
 "metadata": {
  "kernelspec": {
   "display_name": "Python [conda env:base] *",
   "language": "python",
   "name": "conda-base-py"
  },
  "language_info": {
   "codemirror_mode": {
    "name": "ipython",
    "version": 3
   },
   "file_extension": ".py",
   "mimetype": "text/x-python",
   "name": "python",
   "nbconvert_exporter": "python",
   "pygments_lexer": "ipython3",
   "version": "3.13.5"
  }
 },
 "nbformat": 4,
 "nbformat_minor": 5
}
